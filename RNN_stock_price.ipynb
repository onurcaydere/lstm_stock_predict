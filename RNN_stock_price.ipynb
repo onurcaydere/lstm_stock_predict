{
 "cells": [
  {
   "cell_type": "code",
   "execution_count": 75,
   "id": "597c24f5-481a-4791-af2f-bf09b3144a97",
   "metadata": {},
   "outputs": [],
   "source": [
    "import torch\n",
    "import torch.nn as nn\n",
    "import torch.nn.functional as F\n",
    "from torch.utils.data import DataLoader,TensorDataset\n",
    "\n",
    "import pandas as pd\n",
    "from pandas.plotting import register_matplotlib_converters\n",
    "import numpy as np\n",
    "\n",
    "import matplotlib.pyplot as plt\n"
   ]
  },
  {
   "cell_type": "code",
   "execution_count": 76,
   "id": "487607db-a94c-4433-b447-8bb5fa7bdfe9",
   "metadata": {},
   "outputs": [
    {
     "data": {
      "text/html": [
       "<div>\n",
       "<style scoped>\n",
       "    .dataframe tbody tr th:only-of-type {\n",
       "        vertical-align: middle;\n",
       "    }\n",
       "\n",
       "    .dataframe tbody tr th {\n",
       "        vertical-align: top;\n",
       "    }\n",
       "\n",
       "    .dataframe thead th {\n",
       "        text-align: right;\n",
       "    }\n",
       "</style>\n",
       "<table border=\"1\" class=\"dataframe\">\n",
       "  <thead>\n",
       "    <tr style=\"text-align: right;\">\n",
       "      <th></th>\n",
       "      <th>Open</th>\n",
       "      <th>High</th>\n",
       "      <th>Low</th>\n",
       "      <th>Close</th>\n",
       "      <th>Volume</th>\n",
       "    </tr>\n",
       "    <tr>\n",
       "      <th>Date</th>\n",
       "      <th></th>\n",
       "      <th></th>\n",
       "      <th></th>\n",
       "      <th></th>\n",
       "      <th></th>\n",
       "    </tr>\n",
       "  </thead>\n",
       "  <tbody>\n",
       "    <tr>\n",
       "      <th>2012-01-03</th>\n",
       "      <td>325.25</td>\n",
       "      <td>332.83</td>\n",
       "      <td>324.97</td>\n",
       "      <td>663.59</td>\n",
       "      <td>7,380,500</td>\n",
       "    </tr>\n",
       "    <tr>\n",
       "      <th>2012-01-04</th>\n",
       "      <td>331.27</td>\n",
       "      <td>333.87</td>\n",
       "      <td>329.08</td>\n",
       "      <td>666.45</td>\n",
       "      <td>5,749,400</td>\n",
       "    </tr>\n",
       "    <tr>\n",
       "      <th>2012-01-05</th>\n",
       "      <td>329.83</td>\n",
       "      <td>330.75</td>\n",
       "      <td>326.89</td>\n",
       "      <td>657.21</td>\n",
       "      <td>6,590,300</td>\n",
       "    </tr>\n",
       "    <tr>\n",
       "      <th>2012-01-06</th>\n",
       "      <td>328.34</td>\n",
       "      <td>328.77</td>\n",
       "      <td>323.68</td>\n",
       "      <td>648.24</td>\n",
       "      <td>5,405,900</td>\n",
       "    </tr>\n",
       "    <tr>\n",
       "      <th>2012-01-09</th>\n",
       "      <td>322.04</td>\n",
       "      <td>322.29</td>\n",
       "      <td>309.46</td>\n",
       "      <td>620.76</td>\n",
       "      <td>11,688,800</td>\n",
       "    </tr>\n",
       "    <tr>\n",
       "      <th>2012-01-10</th>\n",
       "      <td>313.70</td>\n",
       "      <td>315.72</td>\n",
       "      <td>307.30</td>\n",
       "      <td>621.43</td>\n",
       "      <td>8,824,000</td>\n",
       "    </tr>\n",
       "    <tr>\n",
       "      <th>2012-01-11</th>\n",
       "      <td>310.59</td>\n",
       "      <td>313.52</td>\n",
       "      <td>309.40</td>\n",
       "      <td>624.25</td>\n",
       "      <td>4,817,800</td>\n",
       "    </tr>\n",
       "    <tr>\n",
       "      <th>2012-01-12</th>\n",
       "      <td>314.43</td>\n",
       "      <td>315.26</td>\n",
       "      <td>312.08</td>\n",
       "      <td>627.92</td>\n",
       "      <td>3,764,400</td>\n",
       "    </tr>\n",
       "    <tr>\n",
       "      <th>2012-01-13</th>\n",
       "      <td>311.96</td>\n",
       "      <td>312.30</td>\n",
       "      <td>309.37</td>\n",
       "      <td>623.28</td>\n",
       "      <td>4,631,800</td>\n",
       "    </tr>\n",
       "    <tr>\n",
       "      <th>2012-01-17</th>\n",
       "      <td>314.81</td>\n",
       "      <td>314.81</td>\n",
       "      <td>311.67</td>\n",
       "      <td>626.86</td>\n",
       "      <td>3,832,800</td>\n",
       "    </tr>\n",
       "    <tr>\n",
       "      <th>2012-01-18</th>\n",
       "      <td>312.14</td>\n",
       "      <td>315.82</td>\n",
       "      <td>309.90</td>\n",
       "      <td>631.18</td>\n",
       "      <td>5,544,000</td>\n",
       "    </tr>\n",
       "    <tr>\n",
       "      <th>2012-01-19</th>\n",
       "      <td>319.30</td>\n",
       "      <td>319.30</td>\n",
       "      <td>314.55</td>\n",
       "      <td>637.82</td>\n",
       "      <td>12,657,800</td>\n",
       "    </tr>\n",
       "  </tbody>\n",
       "</table>\n",
       "</div>"
      ],
      "text/plain": [
       "              Open    High     Low   Close      Volume\n",
       "Date                                                  \n",
       "2012-01-03  325.25  332.83  324.97  663.59   7,380,500\n",
       "2012-01-04  331.27  333.87  329.08  666.45   5,749,400\n",
       "2012-01-05  329.83  330.75  326.89  657.21   6,590,300\n",
       "2012-01-06  328.34  328.77  323.68  648.24   5,405,900\n",
       "2012-01-09  322.04  322.29  309.46  620.76  11,688,800\n",
       "2012-01-10  313.70  315.72  307.30  621.43   8,824,000\n",
       "2012-01-11  310.59  313.52  309.40  624.25   4,817,800\n",
       "2012-01-12  314.43  315.26  312.08  627.92   3,764,400\n",
       "2012-01-13  311.96  312.30  309.37  623.28   4,631,800\n",
       "2012-01-17  314.81  314.81  311.67  626.86   3,832,800\n",
       "2012-01-18  312.14  315.82  309.90  631.18   5,544,000\n",
       "2012-01-19  319.30  319.30  314.55  637.82  12,657,800"
      ]
     },
     "execution_count": 76,
     "metadata": {},
     "output_type": "execute_result"
    }
   ],
   "source": [
    "df=pd.read_csv(\"Stock_Price_Train.csv\",index_col=0,parse_dates=True)\n",
    "df.head(12)"
   ]
  },
  {
   "cell_type": "code",
   "execution_count": 77,
   "id": "fd11ca7a-fc37-481c-9fc6-a6bc0b9d82a3",
   "metadata": {},
   "outputs": [
    {
     "data": {
      "text/plain": [
       "<AxesSubplot:xlabel='Date'>"
      ]
     },
     "execution_count": 77,
     "metadata": {},
     "output_type": "execute_result"
    },
    {
     "data": {
      "image/png": "[encoded data removed]",
      "text/plain": [
       "<Figure size 432x288 with 1 Axes>"
      ]
     },
     "metadata": {
      "needs_background": "light"
     },
     "output_type": "display_data"
    }
   ],
   "source": [
    "df[\"Open\"].plot()"
   ]
  },
  {
   "cell_type": "code",
   "execution_count": 78,
   "id": "07808b44-36d2-4589-b16f-2a3119eecd11",
   "metadata": {},
   "outputs": [],
   "source": [
    "train=df.Open.values"
   ]
  },
  {
   "cell_type": "code",
   "execution_count": 79,
   "id": "cff76b93-0e93-4d45-a28c-06ee498b4d57",
   "metadata": {},
   "outputs": [
    {
     "data": {
      "text/plain": [
       "array([325.25, 331.27, 329.83, ..., 793.7 , 783.33, 782.75])"
      ]
     },
     "execution_count": 79,
     "metadata": {},
     "output_type": "execute_result"
    }
   ],
   "source": [
    "train=train\n",
    "train"
   ]
  },
  {
   "cell_type": "code",
   "execution_count": 80,
   "id": "81d079ae-57ec-40e0-ac1d-5c214eeefae6",
   "metadata": {},
   "outputs": [],
   "source": [
    "from sklearn.preprocessing import MinMaxScaler\n",
    "scaler=MinMaxScaler(feature_range=(-1,1))\n",
    "train=scaler.fit_transform(train.reshape(-1,1))\n"
   ]
  },
  {
   "cell_type": "code",
   "execution_count": 81,
   "id": "d46cc4e4-c59a-4ead-9b0f-a6662baec4cc",
   "metadata": {},
   "outputs": [],
   "source": [
    "train=torch.FloatTensor(train).view(-1)"
   ]
  },
  {
   "cell_type": "code",
   "execution_count": 82,
   "id": "4fcd0377-7335-4e5f-bfe0-d7f12b80d86f",
   "metadata": {},
   "outputs": [
    {
     "data": {
      "text/plain": [
       "tensor([-0.8284, -0.8060, -0.8113,  ...,  0.9145,  0.8759,  0.8738])"
      ]
     },
     "execution_count": 82,
     "metadata": {},
     "output_type": "execute_result"
    }
   ],
   "source": [
    "train"
   ]
  },
  {
   "cell_type": "code",
   "execution_count": 83,
   "id": "6f1c1489-296d-4411-b834-bda04d2458bd",
   "metadata": {},
   "outputs": [],
   "source": [
    "test_size=30\n",
    "def input_data(seq,ws):\n",
    "    out=[]\n",
    "    L=len(seq)\n",
    "    \n",
    "    for i in range(L-ws):\n",
    "        window=seq[i:i+ws]\n",
    "        label=seq[i+ws:i+ws+1]\n",
    "        \n",
    "        out.append((window,label))\n",
    "        \n",
    "    return out\n",
    "        "
   ]
  },
  {
   "cell_type": "code",
   "execution_count": 84,
   "id": "10ca7292-6212-4786-b156-1b4502e628da",
   "metadata": {
    "tags": []
   },
   "outputs": [],
   "source": [
    "train_data=input_data(train,test_size)"
   ]
  },
  {
   "cell_type": "code",
   "execution_count": 85,
   "id": "80aad19b-73ad-4886-aadf-2f15e8b906ec",
   "metadata": {
    "tags": []
   },
   "outputs": [
    {
     "data": {
      "text/plain": [
       "(tensor([-0.8284, -0.8060, -0.8113, -0.8169, -0.8403, -0.8713, -0.8829, -0.8686,\n",
       "         -0.8778, -0.8672, -0.8771, -0.8505, -0.9440, -0.9524, -0.9518, -0.9682,\n",
       "         -0.9784, -0.9807, -0.9671, -0.9580, -0.9544, -0.9545, -0.9438, -0.9357,\n",
       "         -0.9132, -0.9105, -0.9042, -0.9119, -0.9070, -0.9051]),\n",
       " tensor([-0.9025]))"
      ]
     },
     "execution_count": 85,
     "metadata": {},
     "output_type": "execute_result"
    }
   ],
   "source": [
    "train_data[0]"
   ]
  },
  {
   "cell_type": "code",
   "execution_count": 86,
   "id": "9af1bcf6-fe73-4a5d-8d83-942c1a73046f",
   "metadata": {},
   "outputs": [
    {
     "data": {
      "text/plain": [
       "1228"
      ]
     },
     "execution_count": 86,
     "metadata": {},
     "output_type": "execute_result"
    }
   ],
   "source": [
    "len(train_data) #1246+30+30\n"
   ]
  },
  {
   "cell_type": "code",
   "execution_count": 89,
   "id": "88e102d3-f910-4699-bdd4-3e002b61ade7",
   "metadata": {},
   "outputs": [],
   "source": [
    "class RNN(nn.Module):\n",
    "    def __init__(self,input_size=1,hidden_size=100,output_size=1):\n",
    "        super().__init__()\n",
    "        \n",
    "        self.hidden_size=hidden_size\n",
    "        \n",
    "        self.rnn1=nn.LSTM(input_size,hidden_size)\n",
    "        self.linear=nn.Linear(hidden_size,output_size)\n",
    "        \n",
    "        self.hidden1=(torch.zeros(1,1,self.hidden_size),torch.zeros(1,1,self.hidden_size))\n",
    "\n",
    "        \n",
    "    def forward(self,x):\n",
    "        rnn_out1,self.hidden1=self.rnn1(x.view(len(x),1,-1),self.hidden1)\n",
    "        out=self.linear(rnn_out1.view(len(x),-1))\n",
    "        return out[-1]"
   ]
  },
  {
   "cell_type": "code",
   "execution_count": 90,
   "id": "032629fa-deb1-4ec6-b5d0-87440cc5faa8",
   "metadata": {},
   "outputs": [
    {
     "data": {
      "text/plain": [
       "RNN(\n",
       "  (rnn1): LSTM(1, 100)\n",
       "  (linear): Linear(in_features=100, out_features=1, bias=True)\n",
       ")"
      ]
     },
     "execution_count": 90,
     "metadata": {},
     "output_type": "execute_result"
    }
   ],
   "source": [
    "model=RNN()\n",
    "model\n"
   ]
  },
  {
   "cell_type": "code",
   "execution_count": 91,
   "id": "da9744fd-29d7-491c-9c2d-75e61cf392b0",
   "metadata": {},
   "outputs": [
    {
     "name": "stdout",
     "output_type": "stream",
     "text": [
      "400\n",
      "40000\n",
      "400\n",
      "400\n",
      "100\n",
      "1\n"
     ]
    }
   ],
   "source": [
    "for params in model.parameters():\n",
    "    print(params.numel())"
   ]
  },
  {
   "cell_type": "code",
   "execution_count": 92,
   "id": "eb5e3be8-7d74-4607-93ef-6b6bd6e777a8",
   "metadata": {},
   "outputs": [],
   "source": [
    "criterion=nn.MSELoss()\n",
    "optimizer=torch.optim.Adam(model.parameters(),lr=0.001)"
   ]
  },
  {
   "cell_type": "code",
   "execution_count": 93,
   "id": "63ae8937-794e-42ef-8b8c-5bd189ec9d9a",
   "metadata": {
    "collapsed": true,
    "jupyter": {
     "outputs_hidden": true
    },
    "tags": []
   },
   "outputs": [
    {
     "name": "stdout",
     "output_type": "stream",
     "text": [
      "Epoch 0 Loss 0.004137403331696987\n",
      "Epoch 1 Loss 0.0016359788132831454\n",
      "Epoch 2 Loss 0.0007789477822370827\n",
      "Epoch 3 Loss 0.0005381835508160293\n",
      "Epoch 4 Loss 0.00040234392508864403\n",
      "Epoch 5 Loss 0.0002986534091178328\n",
      "Epoch 6 Loss 0.00029199349228292704\n",
      "Epoch 7 Loss 0.0003078871523030102\n",
      "Epoch 8 Loss 0.0003306884318590164\n",
      "Epoch 9 Loss 0.00032542229746468365\n",
      "Epoch 10 Loss 0.000767442281357944\n",
      "Epoch 11 Loss 0.0006344758439809084\n",
      "Epoch 12 Loss 0.0005804684478789568\n",
      "Epoch 13 Loss 0.000474272936116904\n",
      "Epoch 14 Loss 0.0006787935853935778\n",
      "Epoch 15 Loss 0.000536023115273565\n",
      "Epoch 16 Loss 0.00037528309621848166\n",
      "Epoch 17 Loss 0.00032584823202341795\n",
      "Epoch 18 Loss 0.00038068549474701285\n",
      "Epoch 19 Loss 0.00036733527667820454\n",
      "Epoch 20 Loss 0.0003720063832588494\n",
      "Epoch 21 Loss 0.0002696205337997526\n",
      "Epoch 22 Loss 0.00030099210562184453\n",
      "Epoch 23 Loss 0.00020880289957858622\n",
      "Epoch 24 Loss 0.00020884250989183784\n",
      "Epoch 25 Loss 0.00018739800725597888\n",
      "Epoch 26 Loss 7.822825136827305e-05\n",
      "Epoch 27 Loss 0.00011678561713779345\n",
      "Epoch 28 Loss 0.00043698487570509315\n",
      "Epoch 29 Loss 3.259191362303682e-05\n",
      "Epoch 30 Loss 0.00022678407549392432\n",
      "Epoch 31 Loss 0.00011826404079329222\n",
      "Epoch 32 Loss 6.029977885191329e-05\n",
      "Epoch 33 Loss 1.733476346998941e-05\n",
      "Epoch 34 Loss 3.757373269763775e-05\n",
      "Epoch 35 Loss 8.645108027849346e-05\n",
      "Epoch 36 Loss 8.541012357454747e-05\n",
      "Epoch 37 Loss 7.243013533297926e-05\n",
      "Epoch 38 Loss 0.00026850789436139166\n",
      "Epoch 39 Loss 0.0003371099883224815\n",
      "Epoch 40 Loss 0.00044996588258072734\n",
      "Epoch 41 Loss 0.00018522089521866292\n",
      "Epoch 42 Loss 3.216457480448298e-05\n",
      "Epoch 43 Loss 3.6320216167951003e-07\n",
      "Epoch 44 Loss 4.6000310248928145e-05\n",
      "Epoch 45 Loss 1.1215981885470683e-06\n",
      "Epoch 46 Loss 7.866431406000629e-05\n",
      "Epoch 47 Loss 8.602708589933172e-07\n",
      "Epoch 48 Loss 2.155323454644531e-05\n",
      "Epoch 49 Loss 3.453035105849267e-06\n",
      "Epoch 50 Loss 8.540513590560295e-06\n",
      "Epoch 51 Loss 0.00013544410467147827\n",
      "Epoch 52 Loss 1.653373328736052e-05\n",
      "Epoch 53 Loss 3.867498435283778e-06\n",
      "Epoch 54 Loss 1.1209455806238111e-05\n",
      "Epoch 55 Loss 2.1948522999082343e-09\n",
      "Epoch 56 Loss 5.30190709469025e-06\n",
      "Epoch 57 Loss 0.00030237730243243277\n",
      "Epoch 58 Loss 9.73567584878765e-05\n",
      "Epoch 59 Loss 4.451511995284818e-05\n",
      "Epoch 60 Loss 3.318737435620278e-05\n",
      "Epoch 61 Loss 3.050513259950094e-05\n",
      "Epoch 62 Loss 7.835593351046555e-06\n",
      "Epoch 63 Loss 6.553394541697344e-06\n",
      "Epoch 64 Loss 2.0112156562390737e-06\n",
      "Epoch 65 Loss 4.247352762831724e-07\n",
      "Epoch 66 Loss 9.279248479288071e-05\n",
      "Epoch 67 Loss 0.00012461381265893579\n",
      "Epoch 68 Loss 0.00020002922974526882\n",
      "Epoch 69 Loss 0.0002396224590484053\n",
      "Epoch 70 Loss 0.00024233349540736526\n",
      "Epoch 71 Loss 0.00019917702593374997\n",
      "Epoch 72 Loss 0.00018480255675967783\n",
      "Epoch 73 Loss 0.00019461719784885645\n",
      "Epoch 74 Loss 0.00022516232274938375\n",
      "Epoch 75 Loss 0.00014102066052146256\n",
      "Epoch 76 Loss 6.456895789597183e-05\n",
      "Epoch 77 Loss 6.455362745327875e-05\n",
      "Epoch 78 Loss 0.00016105746908579022\n",
      "Epoch 79 Loss 0.0001354205160168931\n",
      "Epoch 80 Loss 0.0001334798289462924\n",
      "Epoch 81 Loss 0.00014107163588050753\n",
      "Epoch 82 Loss 0.0001813476119423285\n",
      "Epoch 83 Loss 0.0002487949968781322\n",
      "Epoch 84 Loss 0.0002836893545463681\n",
      "Epoch 85 Loss 0.0002804519608616829\n",
      "Epoch 86 Loss 8.920374239096418e-05\n",
      "Epoch 87 Loss 2.2098452973295934e-05\n",
      "Epoch 88 Loss 9.17369015951408e-06\n",
      "Epoch 89 Loss 4.487375190365128e-05\n",
      "Epoch 90 Loss 3.4329481422901154e-05\n",
      "Epoch 91 Loss 6.511226820293814e-05\n",
      "Epoch 92 Loss 7.53825152060017e-05\n",
      "Epoch 93 Loss 9.017300726554822e-06\n",
      "Epoch 94 Loss 1.4507977539324202e-06\n",
      "Epoch 95 Loss 7.77061577537097e-05\n",
      "Epoch 96 Loss 1.1627975254668854e-05\n",
      "Epoch 97 Loss 0.0003625733661465347\n",
      "Epoch 98 Loss 4.520816946751438e-05\n",
      "Epoch 99 Loss 9.168997166852932e-06\n"
     ]
    }
   ],
   "source": [
    "epochs=100\n",
    "for epoch in range(epochs):\n",
    "    for seq,y_train in train_data:\n",
    "        \n",
    "        optimizer.zero_grad()\n",
    "        model.hidden1=(torch.zeros(1,1,model.hidden_size),torch.zeros(1,1,model.hidden_size))\n",
    "        pred=model(seq)\n",
    "        \n",
    "        loss=criterion(pred,y_train)\n",
    "        \n",
    "        loss.backward()\n",
    "        optimizer.step()\n",
    "    print(\"Epoch {} Loss {}\".format(epoch,loss.item()))\n",
    "    "
   ]
  },
  {
   "cell_type": "code",
   "execution_count": 109,
   "id": "415cd359-16a2-4d53-84e6-4e832669ab90",
   "metadata": {},
   "outputs": [],
   "source": [
    "future=30\n",
    "preds=train[-test_size:].tolist()\n",
    "model.eval()\n",
    "for i in range(future):\n",
    "    seq=torch.FloatTensor(preds[-test_size:])\n",
    "    with torch.no_grad():\n",
    "        model.hidden1=(torch.zeros(1,1,model.hidden_size),torch.zeros(1,1,model.hidden_size))\n",
    "        out=model(seq)\n",
    "        preds.append(out.item())\n",
    "        "
   ]
  },
  {
   "cell_type": "code",
   "execution_count": 110,
   "id": "66e3ef7c-250c-4c97-959c-56716fd7dea2",
   "metadata": {
    "tags": []
   },
   "outputs": [
    {
     "data": {
      "text/plain": [
       "[0.8819559812545776,\n",
       " 0.8822449445724487,\n",
       " 0.8889760375022888,\n",
       " 0.8967550992965698,\n",
       " 0.9010646343231201,\n",
       " 0.9039564728736877,\n",
       " 0.9068109393119812,\n",
       " 0.9087897539138794,\n",
       " 0.9086814522743225,\n",
       " 0.9071581959724426,\n",
       " 0.905497133731842,\n",
       " 0.9033889174461365,\n",
       " 0.900833785533905,\n",
       " 0.8990148305892944,\n",
       " 0.8978049159049988,\n",
       " 0.8971154689788818,\n",
       " 0.8975957036018372,\n",
       " 0.8985932469367981,\n",
       " 0.9000282883644104,\n",
       " 0.901616096496582,\n",
       " 0.9021552801132202,\n",
       " 0.9032371044158936,\n",
       " 0.9040465354919434,\n",
       " 0.9040808081626892,\n",
       " 0.9037825465202332,\n",
       " 0.9037309288978577,\n",
       " 0.9037091135978699,\n",
       " 0.9026142954826355,\n",
       " 0.901526153087616,\n",
       " 0.9006544947624207]"
      ]
     },
     "execution_count": 110,
     "metadata": {},
     "output_type": "execute_result"
    }
   ],
   "source": [
    "preds[test_size:]"
   ]
  },
  {
   "cell_type": "code",
   "execution_count": 111,
   "id": "0abc9aad-1e84-4685-88ba-14f45ae75ba2",
   "metadata": {},
   "outputs": [],
   "source": [
    "true_prediction=scaler.inverse_transform(np.array(preds[test_size:]).reshape(-1,1))"
   ]
  },
  {
   "cell_type": "code",
   "execution_count": 112,
   "id": "72e6780f-46e3-4973-ba02-c3993ee6759c",
   "metadata": {
    "tags": []
   },
   "outputs": [
    {
     "data": {
      "text/plain": [
       "array([[784.95212864],\n",
       "       [785.0297962 ],\n",
       "       [786.83897936],\n",
       "       [788.92983559],\n",
       "       [790.08815241],\n",
       "       [790.86542078],\n",
       "       [791.63264427],\n",
       "       [792.16451006],\n",
       "       [792.13540074],\n",
       "       [791.72597991],\n",
       "       [791.2795196 ],\n",
       "       [790.71287323],\n",
       "       [790.02610488],\n",
       "       [789.53720617],\n",
       "       [789.2120053 ],\n",
       "       [789.02669575],\n",
       "       [789.15577321],\n",
       "       [789.42389291],\n",
       "       [789.80960335],\n",
       "       [790.23637442],\n",
       "       [790.38129619],\n",
       "       [790.67206892],\n",
       "       [790.88962781],\n",
       "       [790.89883962],\n",
       "       [790.81867285],\n",
       "       [790.80479907],\n",
       "       [790.79893555],\n",
       "       [790.50467034],\n",
       "       [790.21219943],\n",
       "       [789.9779151 ]])"
      ]
     },
     "execution_count": 112,
     "metadata": {},
     "output_type": "execute_result"
    }
   ],
   "source": [
    "true_prediction"
   ]
  },
  {
   "cell_type": "code",
   "execution_count": 113,
   "id": "0dcd4724-eb26-4537-bf31-1d11cc2726cb",
   "metadata": {},
   "outputs": [
    {
     "data": {
      "text/plain": [
       "Date\n",
       "2016-11-17    766.92\n",
       "2016-11-18    771.37\n",
       "2016-11-21    762.61\n",
       "2016-11-22    772.63\n",
       "2016-11-23    767.73\n",
       "2016-11-25    764.26\n",
       "2016-11-28    760.00\n",
       "2016-11-29    771.53\n",
       "2016-11-30    770.07\n",
       "2016-12-01    757.44\n",
       "2016-12-02    744.59\n",
       "2016-12-05    757.71\n",
       "2016-12-06    764.73\n",
       "2016-12-07    761.00\n",
       "2016-12-08    772.48\n",
       "2016-12-09    780.00\n",
       "2016-12-12    785.04\n",
       "2016-12-13    793.90\n",
       "2016-12-14    797.40\n",
       "2016-12-15    797.34\n",
       "2016-12-16    800.40\n",
       "2016-12-19    790.22\n",
       "2016-12-20    796.76\n",
       "2016-12-21    795.84\n",
       "2016-12-22    792.36\n",
       "2016-12-23    790.90\n",
       "2016-12-27    790.68\n",
       "2016-12-28    793.70\n",
       "2016-12-29    783.33\n",
       "2016-12-30    782.75\n",
       "Name: Open, dtype: float64"
      ]
     },
     "execution_count": 113,
     "metadata": {},
     "output_type": "execute_result"
    }
   ],
   "source": [
    "df[\"Open\"][-test_size:]"
   ]
  },
  {
   "cell_type": "code",
   "execution_count": 120,
   "id": "8543b1f7-f491-47c9-880e-b7505ee7e1a8",
   "metadata": {},
   "outputs": [],
   "source": [
    "x=np.arange(\"2016-12-30\",\"2017-01-29\",dtype=\"datetime64[D]\")"
   ]
  },
  {
   "cell_type": "code",
   "execution_count": 121,
   "id": "0b0cd733-2718-43b5-9a9a-60f6380ec0af",
   "metadata": {},
   "outputs": [
    {
     "data": {
      "text/plain": [
       "30"
      ]
     },
     "execution_count": 121,
     "metadata": {},
     "output_type": "execute_result"
    }
   ],
   "source": [
    "len(x)"
   ]
  },
  {
   "cell_type": "code",
   "execution_count": 124,
   "id": "af8fbb0e-91b7-412f-afe7-ca28daf96042",
   "metadata": {},
   "outputs": [
    {
     "data": {
      "image/png": "[encoded data removed]",
      "text/plain": [
       "<Figure size 1440x288 with 1 Axes>"
      ]
     },
     "metadata": {
      "needs_background": "light"
     },
     "output_type": "display_data"
    }
   ],
   "source": [
    "plt.figure(figsize=(20,4))\n",
    "plt.title('Beer, Wine, and Alcohol Sales')\n",
    "plt.ylabel('Sales (millions of dollars)')\n",
    "plt.grid(True)\n",
    "plt.autoscale(axis='x',tight=True)\n",
    "plt.plot(df['Open'][-test_size:])\n",
    "plt.plot(x,true_prediction)\n",
    "plt.show()"
   ]
  },
  {
   "cell_type": "code",
   "execution_count": null,
   "id": "f9b93b09-0c91-44da-a6c3-e303c0bb7deb",
   "metadata": {},
   "outputs": [],
   "source": []
  }
 ],
 "metadata": {
  "kernelspec": {
   "display_name": "Python 3 (ipykernel)",
   "language": "python",
   "name": "python3"
  },
  "language_info": {
   "codemirror_mode": {
    "name": "ipython",
    "version": 3
   },
   "file_extension": ".py",
   "mimetype": "text/x-python",
   "name": "python",
   "nbconvert_exporter": "python",
   "pygments_lexer": "ipython3",
   "version": "3.8.12"
  }
 },
 "nbformat": 4,
 "nbformat_minor": 5
}
